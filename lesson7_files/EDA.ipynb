{
 "cells": [
  {
   "cell_type": "code",
   "execution_count": null,
   "id": "4e541642-e318-4c08-8080-67f1a0e9ed29",
   "metadata": {},
   "outputs": [],
   "source": [
    "import pandas as pd"
   ]
  },
  {
   "cell_type": "code",
   "execution_count": null,
   "id": "dcdf62bb-de03-43b2-93fd-d127d8af0a09",
   "metadata": {},
   "outputs": [],
   "source": [
    "orders = pd.read_csv('ecommerce_data/orders_dataset.csv')"
   ]
  },
  {
   "cell_type": "code",
   "execution_count": null,
   "id": "f4a40597-704e-4ce1-92ba-ec11f7a3109a",
   "metadata": {},
   "outputs": [],
   "source": [
    "orders.head(5)"
   ]
  },
  {
   "cell_type": "code",
   "execution_count": null,
   "id": "f85e9081-02dd-45a9-a282-5c127654fb26",
   "metadata": {},
   "outputs": [],
   "source": [
    "order_items = pd.read_csv('ecommerce_data/order_items_dataset.csv')"
   ]
  },
  {
   "cell_type": "code",
   "execution_count": null,
   "id": "e64c4d9e-5518-470b-a8af-20488b7e7b5e",
   "metadata": {},
   "outputs": [],
   "source": [
    "order_items.head(5)"
   ]
  },
  {
   "cell_type": "code",
   "execution_count": null,
   "id": "1fcd5db3-a0ee-4808-a131-7d634686d57d",
   "metadata": {},
   "outputs": [],
   "source": [
    "order_items.describe()"
   ]
  },
  {
   "cell_type": "code",
   "execution_count": null,
   "id": "f9794dec-d8f1-4ac9-8292-3bd09517efe3",
   "metadata": {},
   "outputs": [],
   "source": [
    "products = pd.read_csv('ecommerce_data/products_dataset.csv')"
   ]
  },
  {
   "cell_type": "code",
   "execution_count": null,
   "id": "9b82b0bd-ae76-4a44-9d08-e97724720ff5",
   "metadata": {},
   "outputs": [],
   "source": [
    "products.head(5)"
   ]
  },
  {
   "cell_type": "code",
   "execution_count": null,
   "id": "230eb656-8f43-4d08-9e0c-fc8418235e34",
   "metadata": {},
   "outputs": [],
   "source": [
    "products['product_id'].nunique()"
   ]
  },
  {
   "cell_type": "code",
   "execution_count": null,
   "id": "361655ee-0c76-40c5-9cf5-e2a99c878d5e",
   "metadata": {},
   "outputs": [],
   "source": [
    "products['product_category_name'].nunique()"
   ]
  },
  {
   "cell_type": "code",
   "execution_count": null,
   "id": "2fd39538-9a32-46d9-ab60-38f7534092df",
   "metadata": {},
   "outputs": [],
   "source": [
    "products['product_category_name'].unique()"
   ]
  },
  {
   "cell_type": "code",
   "execution_count": null,
   "id": "9acde437-1cf0-4f1b-9df1-3152e61cb734",
   "metadata": {},
   "outputs": [],
   "source": [
    "customers = pd.read_csv('ecommerce_data/customers_dataset.csv')"
   ]
  },
  {
   "cell_type": "code",
   "execution_count": null,
   "id": "4b3c0dee-e5b8-4db3-9c11-77ec1da91c72",
   "metadata": {},
   "outputs": [],
   "source": [
    "customers.head(5)"
   ]
  },
  {
   "cell_type": "code",
   "execution_count": null,
   "id": "6f7cfebf-6260-4a95-9f96-02d93d6a5dee",
   "metadata": {},
   "outputs": [],
   "source": [
    "reviews = pd.read_csv('ecommerce_data/order_reviews_dataset.csv')"
   ]
  },
  {
   "cell_type": "code",
   "execution_count": null,
   "id": "61aad84a-e11a-4754-a856-4d91ffb423f1",
   "metadata": {},
   "outputs": [],
   "source": [
    "reviews.head(5)"
   ]
  },
  {
   "cell_type": "code",
   "execution_count": null,
   "id": "6fc0f9a5-a7f9-458f-9c64-b8596143d4e1",
   "metadata": {},
   "outputs": [],
   "source": [
    "# How much revenue did we generate in 2023 compared to 2022?"
   ]
  },
  {
   "cell_type": "code",
   "execution_count": null,
   "id": "70ff902e-34a2-4a1c-8375-195081293380",
   "metadata": {},
   "outputs": [],
   "source": [
    "order_items.head(2)"
   ]
  },
  {
   "cell_type": "code",
   "execution_count": null,
   "id": "dac502c4-41b0-418c-b89d-7eb69c1b940c",
   "metadata": {},
   "outputs": [],
   "source": [
    "orders.head(2)"
   ]
  },
  {
   "cell_type": "code",
   "execution_count": null,
   "id": "2a7bce92-f069-495d-8cd9-060e16884f89",
   "metadata": {},
   "outputs": [],
   "source": [
    "sales_data = pd.merge(left = order_items[['order_id','order_item_id', 'product_id', 'price']],\n",
    "         right = orders[['order_id', 'order_status', 'order_purchase_timestamp', 'order_delivered_customer_date']],\n",
    "         on = 'order_id')"
   ]
  },
  {
   "cell_type": "code",
   "execution_count": null,
   "id": "b54c8edf-7355-4544-9d58-98d3613ba2ea",
   "metadata": {},
   "outputs": [],
   "source": [
    "sales_data.head(2)"
   ]
  },
  {
   "cell_type": "code",
   "execution_count": null,
   "id": "9002b9ff-c355-406e-8640-b79f31ebee5b",
   "metadata": {},
   "outputs": [],
   "source": [
    "sales_data['order_status'].unique()"
   ]
  },
  {
   "cell_type": "code",
   "execution_count": null,
   "id": "9ee81d28-abf5-4a71-ac24-7a329667eea8",
   "metadata": {},
   "outputs": [],
   "source": [
    "sales_delivered = sales_data[sales_data['order_status'] == 'delivered']"
   ]
  },
  {
   "cell_type": "code",
   "execution_count": null,
   "id": "1b29670c-5e41-4e42-bc9d-b1e0575f6f44",
   "metadata": {},
   "outputs": [],
   "source": [
    "sales_delivered['order_purchase_timestamp'] = pd.to_datetime(sales_delivered['order_purchase_timestamp'])"
   ]
  },
  {
   "cell_type": "code",
   "execution_count": null,
   "id": "46b8f1e4-ec9e-4f56-ad40-aad5f101204a",
   "metadata": {},
   "outputs": [],
   "source": [
    "sales_delivered['month'] = sales_delivered['order_purchase_timestamp'].apply(lambda timestamp:timestamp.month)"
   ]
  },
  {
   "cell_type": "code",
   "execution_count": null,
   "id": "742c0979-d61a-4140-b330-4f1fce12b938",
   "metadata": {},
   "outputs": [],
   "source": [
    "sales_delivered['year'] = sales_delivered['order_purchase_timestamp'].apply(lambda timestamp:timestamp.year)"
   ]
  },
  {
   "cell_type": "code",
   "execution_count": null,
   "id": "c22593a8-ebc1-4bce-8687-4cdcb600de8d",
   "metadata": {},
   "outputs": [],
   "source": [
    "sales_delivered"
   ]
  },
  {
   "cell_type": "code",
   "execution_count": null,
   "id": "f85560db-1d84-4d2f-b9c4-8ec48338ef58",
   "metadata": {},
   "outputs": [],
   "source": [
    "sales_delivered_2023 = sales_delivered[sales_delivered['year']==2023]\n",
    "sales_delivered_2022 = sales_delivered[sales_delivered['year']==2022]"
   ]
  },
  {
   "cell_type": "code",
   "execution_count": null,
   "id": "74cb7e44-3968-4c87-a3be-eb4fce816ce0",
   "metadata": {},
   "outputs": [],
   "source": [
    "#total revenue in 2023\n",
    "print(f\"total_revenue in 2023: {sales_delivered_2023['price'].sum()}\")"
   ]
  },
  {
   "cell_type": "code",
   "execution_count": null,
   "id": "164d265a-1d8a-4baa-b40f-4bedef397412",
   "metadata": {},
   "outputs": [],
   "source": [
    "# revenue compared to 2022\n",
    "revenue_growth=(sales_delivered_2023['price'].sum()-sales_delivered_2022['price'].sum())/sales_delivered_2022['price'].sum()\n",
    "print(f\"{revenue_growth*100}%\")"
   ]
  },
  {
   "cell_type": "code",
   "execution_count": null,
   "id": "35e427a5-f65c-42d6-b463-3d0b3511ec4f",
   "metadata": {},
   "outputs": [],
   "source": [
    "# What is the month-over-month growth trend in 2023?"
   ]
  },
  {
   "cell_type": "code",
   "execution_count": null,
   "id": "26c4cbf7-7d84-4c94-8712-d61cd5d9cc9e",
   "metadata": {},
   "outputs": [],
   "source": [
    "monthly_growth = sales_delivered_2023[['price', 'month']].groupby('month')['price'].sum().pct_change()"
   ]
  },
  {
   "cell_type": "code",
   "execution_count": null,
   "id": "90a7d347-91b3-4c35-aa3c-5e000b67e4f0",
   "metadata": {},
   "outputs": [],
   "source": [
    "monthly_growth"
   ]
  },
  {
   "cell_type": "code",
   "execution_count": null,
   "id": "b19bdd25-4c8d-4027-a04b-1e7977a1ee86",
   "metadata": {},
   "outputs": [],
   "source": [
    "pct = monthly_growth.mean()"
   ]
  },
  {
   "cell_type": "code",
   "execution_count": null,
   "id": "afbaa43c-6e9b-4bcc-9aca-b8e899a09bb8",
   "metadata": {},
   "outputs": [],
   "source": [
    "print(f\"Monthly growth in 2023: {100*pct}%\")"
   ]
  },
  {
   "cell_type": "code",
   "execution_count": null,
   "id": "c378a336-0d5c-4adb-bfe5-e4bb29d6397d",
   "metadata": {},
   "outputs": [],
   "source": [
    "# average order value in 2023"
   ]
  },
  {
   "cell_type": "code",
   "execution_count": null,
   "id": "5579e8f7-ba1b-4d64-8b66-f9e11734b22d",
   "metadata": {},
   "outputs": [],
   "source": [
    "print(f\"Average order value in 2023: {sales_delivered_2023.groupby('order_id')['price'].sum().mean()}\")"
   ]
  },
  {
   "cell_type": "code",
   "execution_count": null,
   "id": "bb0bc50c-e114-43af-91ea-0dba6643fe3f",
   "metadata": {},
   "outputs": [],
   "source": [
    "avg_order_2023 = sales_delivered_2023.groupby('order_id')['price'].sum().mean()\n",
    "avg_order_2022 = sales_delivered_2022.groupby('order_id')['price'].sum().mean()\n",
    "\n",
    "print(f\"Compared to last year: {100*(avg_order_2023 - avg_order_2022)/(avg_order_2022)}%\")"
   ]
  },
  {
   "cell_type": "code",
   "execution_count": null,
   "id": "f0872484-7c14-425c-ba94-dd8b2548521f",
   "metadata": {},
   "outputs": [],
   "source": [
    "# Total orders in 2023\n",
    "print(f\"Total number of orders in 2023: {sales_delivered_2023['order_id'].nunique()}\")"
   ]
  },
  {
   "cell_type": "code",
   "execution_count": null,
   "id": "06bee8b5-441e-4695-95fe-47aba098bfbd",
   "metadata": {},
   "outputs": [],
   "source": [
    "total_orders_2023 = sales_delivered_2023['order_id'].nunique()\n",
    "total_orders_2022 = sales_delivered_2022['order_id'].nunique()\n",
    "\n",
    "print(f\"Compared to last year: {100*(total_orders_2023 - total_orders_2022)/(total_orders_2022)}%\")"
   ]
  },
  {
   "cell_type": "code",
   "execution_count": null,
   "id": "67fb7156-9338-4862-b68c-36812cd725bf",
   "metadata": {},
   "outputs": [],
   "source": [
    "# revenue trend in the last 12 months"
   ]
  },
  {
   "cell_type": "code",
   "execution_count": null,
   "id": "19993df3-755d-4068-9c8a-7ed31289efb1",
   "metadata": {},
   "outputs": [],
   "source": [
    "sales_delivered_2023.groupby(['year', 'month'])['price'].sum().reset_index().plot(x='month', y='price')"
   ]
  },
  {
   "cell_type": "code",
   "execution_count": null,
   "id": "3e6031b6-331f-44ed-bdf7-120b335eb06d",
   "metadata": {},
   "outputs": [],
   "source": [
    "# top product categories in the last 12 months"
   ]
  },
  {
   "cell_type": "code",
   "execution_count": null,
   "id": "ae6870e5-d106-4cf3-9194-046dacb54716",
   "metadata": {},
   "outputs": [],
   "source": [
    "products.head(2)"
   ]
  },
  {
   "cell_type": "code",
   "execution_count": null,
   "id": "e3733852-4964-4697-a971-61e0704a6da6",
   "metadata": {},
   "outputs": [],
   "source": [
    "sales_delivered_2023.head(2)"
   ]
  },
  {
   "cell_type": "code",
   "execution_count": null,
   "id": "10a49dfe-da71-4bea-9976-880430d3cdcc",
   "metadata": {},
   "outputs": [],
   "source": [
    "sales_categories_2023 = pd.merge(left=products[['product_id', 'product_category_name']],\n",
    "        right=sales_delivered_2023[['product_id', 'price']])"
   ]
  },
  {
   "cell_type": "code",
   "execution_count": null,
   "id": "ab17d97a-3e60-4c6f-9195-34d6434ff790",
   "metadata": {},
   "outputs": [],
   "source": [
    "product_sales = sales_categories_2023.groupby('product_category_name')['price'].sum().sort_values(ascending=False)"
   ]
  },
  {
   "cell_type": "code",
   "execution_count": null,
   "id": "f38f30d6-1912-432e-9d41-5c53c62b1afa",
   "metadata": {},
   "outputs": [],
   "source": [
    "product_sales.plot(kind='bar')"
   ]
  },
  {
   "cell_type": "code",
   "execution_count": null,
   "id": "04467b4a-c1f8-4f75-adfb-5a64cf72a707",
   "metadata": {},
   "outputs": [],
   "source": [
    "#sales by state in the last 12 months"
   ]
  },
  {
   "cell_type": "code",
   "execution_count": null,
   "id": "2af935b5-202f-4c48-8a1f-ce6b40aeb18f",
   "metadata": {},
   "outputs": [],
   "source": [
    "sales_delivered_2023.head(2)"
   ]
  },
  {
   "cell_type": "code",
   "execution_count": null,
   "id": "bc5ad0db-f75b-49b4-acb5-0a18bb7345e4",
   "metadata": {},
   "outputs": [],
   "source": [
    "orders.head(2)"
   ]
  },
  {
   "cell_type": "code",
   "execution_count": null,
   "id": "318866ff-6ac7-4158-9635-7bb1783d8559",
   "metadata": {},
   "outputs": [],
   "source": [
    "customers.head(2)"
   ]
  },
  {
   "cell_type": "code",
   "execution_count": null,
   "id": "d63d8bc9-4acb-4420-aa4a-d260ae3c488e",
   "metadata": {},
   "outputs": [],
   "source": [
    "sales_2023_customers = pd.merge(left= sales_delivered_2023[['order_id', 'price']],\n",
    "         right= orders[['order_id', 'customer_id']])"
   ]
  },
  {
   "cell_type": "code",
   "execution_count": null,
   "id": "7e128953-b6a5-4fb5-b687-54e0dce66732",
   "metadata": {},
   "outputs": [],
   "source": [
    "sales_states_2023 = pd.merge(left = sales_2023_customers, right=customers[['customer_id', 'customer_state']])"
   ]
  },
  {
   "cell_type": "code",
   "execution_count": null,
   "id": "aa1d38cd-946e-45c2-a668-0b129e0d4d53",
   "metadata": {},
   "outputs": [],
   "source": [
    "sales_states_2023 = sales_states_2023.groupby('customer_state')['price'].sum().sort_values(ascending=False)"
   ]
  },
  {
   "cell_type": "code",
   "execution_count": null,
   "id": "be65c04c-a85c-48c5-854c-49246db931be",
   "metadata": {},
   "outputs": [],
   "source": [
    "sales_states_2023 = sales_states_2023.reset_index()"
   ]
  },
  {
   "cell_type": "code",
   "execution_count": null,
   "id": "6a73583b-2d18-41bf-ba79-48422aeb79b1",
   "metadata": {},
   "outputs": [],
   "source": [
    "import plotly.express as px\n",
    "import pandas as pd\n",
    "\n",
    "# Create choropleth map\n",
    "fig = px.choropleth(\n",
    "    sales_states_2023,\n",
    "    locations='customer_state',\n",
    "    color='price',\n",
    "    locationmode='USA-states',\n",
    "    scope='usa',\n",
    "    title='Revenue by State',\n",
    "    color_continuous_scale='Reds'\n",
    ")\n",
    "\n",
    "fig.show()"
   ]
  },
  {
   "cell_type": "code",
   "execution_count": null,
   "id": "00eb079a-79bb-4d7e-b760-bdcb4cccaaa5",
   "metadata": {},
   "outputs": [],
   "source": [
    "reviews.head(2)"
   ]
  },
  {
   "cell_type": "code",
   "execution_count": null,
   "id": "9d5936ed-b2c3-46aa-9f1c-50fa1cc63cf6",
   "metadata": {},
   "outputs": [],
   "source": [
    "sales_delivered_2023.head(2)"
   ]
  },
  {
   "cell_type": "code",
   "execution_count": null,
   "id": "572d347d-28ce-4524-a8da-7e5d816935ab",
   "metadata": {},
   "outputs": [],
   "source": [
    "sales_delivered_2023['order_delivered_customer_date'] = pd.to_datetime(sales_delivered_2023['order_delivered_customer_date'])"
   ]
  },
  {
   "cell_type": "code",
   "execution_count": null,
   "id": "2e3f8d0a-b46f-4af1-af9e-c0bb2458eea7",
   "metadata": {},
   "outputs": [],
   "source": [
    "sales_delivered_2023['delivery_speed'] = (sales_delivered_2023['order_delivered_customer_date']-sales_delivered_2023['order_purchase_timestamp']).apply(lambda t:t.days)"
   ]
  },
  {
   "cell_type": "code",
   "execution_count": null,
   "id": "6487c20b-7aca-4910-9938-ca718532d6ef",
   "metadata": {},
   "outputs": [],
   "source": [
    "sales_delivered_2023 = sales_delivered_2023.merge(reviews[['order_id','review_score']])"
   ]
  },
  {
   "cell_type": "code",
   "execution_count": null,
   "id": "072b5c6e-212d-4735-bac7-1c026356fd2e",
   "metadata": {},
   "outputs": [],
   "source": [
    "review_speed = sales_delivered_2023[['order_id', 'delivery_speed', 'review_score']].drop_duplicates()"
   ]
  },
  {
   "cell_type": "code",
   "execution_count": null,
   "id": "1b89fbf0-4c63-4d78-af88-074bb82db843",
   "metadata": {},
   "outputs": [],
   "source": [
    "review_speed.groupby('delivery_speed')['review_score'].mean().reset_index()"
   ]
  },
  {
   "cell_type": "code",
   "execution_count": null,
   "id": "9208b9f5-654a-45e8-a4fd-fd9ad48683c0",
   "metadata": {},
   "outputs": [],
   "source": [
    "def categorize_delivery_speed(days):\n",
    "    if days<=3:\n",
    "        return '1-3 days'\n",
    "    if days<=7:\n",
    "        return '4-7 days'\n",
    "    return '8+ days'\n",
    "review_speed['delivery_time'] = review_speed['delivery_speed'].apply(categorize_delivery_speed)"
   ]
  },
  {
   "cell_type": "code",
   "execution_count": null,
   "id": "c7dae2b1-93a8-4259-adaf-bf83b879485c",
   "metadata": {},
   "outputs": [],
   "source": [
    "# Avg Delivery Time\n",
    "review_speed.groupby('delivery_time')['review_score'].mean().reset_index()"
   ]
  },
  {
   "cell_type": "code",
   "execution_count": null,
   "id": "b9c0ecbf-2b0d-47f5-9d39-8b41b5487073",
   "metadata": {},
   "outputs": [],
   "source": [
    "# Review Score for 2023\n",
    "review_speed['review_score'].mean()"
   ]
  },
  {
   "cell_type": "code",
   "execution_count": null,
   "id": "f49702d8-d399-4ca2-94cd-c22149878c8d",
   "metadata": {},
   "outputs": [],
   "source": [
    "# Review Score\n",
    "review_speed['review_score'].value_counts(normalize=True).plot(kind='barh')"
   ]
  },
  {
   "cell_type": "code",
   "execution_count": null,
   "id": "c2c5bb03-670b-4ce8-b681-b2d1d32b7b86",
   "metadata": {},
   "outputs": [],
   "source": [
    "# Order status - 2023\n",
    "orders['year'] = pd.to_datetime(orders['order_purchase_timestamp']).apply(lambda t:t.year)\n",
    "orders[orders['year']==2023]['order_status'].value_counts(normalize=True)"
   ]
  },
  {
   "cell_type": "code",
   "execution_count": null,
   "id": "246094cb-8c34-46a9-8dc1-a38f821adc55",
   "metadata": {},
   "outputs": [],
   "source": [
    "# average delivery time - 2023\n",
    "review_speed['delivery_speed'].mean()"
   ]
  },
  {
   "cell_type": "code",
   "execution_count": null,
   "id": "7abfd209-ed11-423f-9c39-77a1d0df40c2",
   "metadata": {},
   "outputs": [],
   "source": []
  }
 ],
 "metadata": {
  "kernelspec": {
   "display_name": "sc-claude-code-files",
   "language": "python",
   "name": "python3"
  },
  "language_info": {
   "codemirror_mode": {
    "name": "ipython",
    "version": 3
   },
   "file_extension": ".py",
   "mimetype": "text/x-python",
   "name": "python",
   "nbconvert_exporter": "python",
   "pygments_lexer": "ipython3",
   "version": "3.11.13"
  }
 },
 "nbformat": 4,
 "nbformat_minor": 5
}
